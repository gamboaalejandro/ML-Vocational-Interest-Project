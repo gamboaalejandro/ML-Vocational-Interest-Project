{
 "cells": [
  {
   "cell_type": "code",
   "execution_count": null,
   "metadata": {},
   "outputs": [],
   "source": [
    "import nltk\n",
    "from nltk.corpus import wordnet\n",
    "\n",
    "nltk.download('wordnet')\n",
    "\n",
    "def synonym_replacement(text):\n",
    "    words = text.split()\n",
    "    new_words = words.copy()\n",
    "    for i, word in enumerate(words):\n",
    "        synonyms = wordnet.synsets(word)\n",
    "        if synonyms:\n",
    "            synonym = synonyms[0].lemmas()[0].name()\n",
    "            new_words[i] = synonym\n",
    "    return ' '.join(new_words)\n",
    "\n",
    "# Aplicar data augmentation al conjunto de entrenamiento\n",
    "augmented_texts = [synonym_replacement(text) for text in train_texts]\n",
    "train_texts_augmented = train_texts + augmented_texts\n",
    "train_labels_augmented = train_labels + train_labels  # Las etiquetas se duplican\n",
    "\n",
    "# Volver a tokenizar con los datos aumentados\n",
    "train_encodings_augmented = tokenizer(\n",
    "    train_texts_augmented,\n",
    "    truncation=True,\n",
    "    padding=True,\n",
    "    max_length=128\n",
    ")\n",
    "\n",
    "train_dataset_augmented = CarreraDataset(train_encodings_augmented, train_labels_augmented)\n"
   ]
  }
 ],
 "metadata": {
  "kernelspec": {
   "display_name": "venv",
   "language": "python",
   "name": "python3"
  },
  "language_info": {
   "name": "python",
   "version": "3.12.6"
  }
 },
 "nbformat": 4,
 "nbformat_minor": 2
}
